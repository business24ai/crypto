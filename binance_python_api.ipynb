{
 "cells": [
  {
   "cell_type": "code",
   "execution_count": null,
   "metadata": {},
   "outputs": [],
   "source": [
    "import pandas as pd\n",
    "from binance.client import Client\n",
    "from binance.exceptions import BinanceAPIException\n",
    "import os\n",
    "from dotenv import load_dotenv\n",
    "load_dotenv()\n",
    "\n",
    "api_key = os.getenv(\"BINANCE_API_KEY\")\n",
    "api_secret = os.getenv(\"BINANCE_SECRET_KEY\")"
   ]
  },
  {
   "cell_type": "code",
   "execution_count": null,
   "metadata": {},
   "outputs": [],
   "source": [
    "client = Client(api_key, api_secret)\n",
    "client"
   ]
  },
  {
   "cell_type": "code",
   "execution_count": null,
   "metadata": {},
   "outputs": [],
   "source": [
    "account = client.get_account()\n",
    "account"
   ]
  },
  {
   "cell_type": "code",
   "execution_count": null,
   "metadata": {},
   "outputs": [],
   "source": [
    "df = pd.DataFrame(account[\"balances\"])\n",
    "df"
   ]
  },
  {
   "cell_type": "code",
   "execution_count": null,
   "metadata": {},
   "outputs": [],
   "source": [
    "df.free = pd.to_numeric(df.free, errors=\"coerce\")"
   ]
  },
  {
   "cell_type": "code",
   "execution_count": null,
   "metadata": {},
   "outputs": [],
   "source": [
    "current_assets = df.loc[df.free > 0]\n",
    "current_assets"
   ]
  },
  {
   "cell_type": "code",
   "execution_count": null,
   "metadata": {},
   "outputs": [],
   "source": [
    "# Fetch balances with more than zero balance\n",
    "balances = {asset['asset']: float(asset['free']) + float(asset['locked'])\n",
    "            for asset in client.get_account()['balances'] if float(asset['free']) + float(asset['locked']) > 0}\n",
    "\n",
    "balances"
   ]
  },
  {
   "cell_type": "code",
   "execution_count": null,
   "metadata": {},
   "outputs": [],
   "source": [
    "# Get current prices for all symbols\n",
    "prices = {price['symbol']: float(price['price']) for price in client.get_all_tickers()}\n",
    "prices"
   ]
  },
  {
   "cell_type": "code",
   "execution_count": null,
   "metadata": {},
   "outputs": [],
   "source": [
    "\n",
    "# Estimate the USDT value of each asset\n",
    "estimated_values = {}\n",
    "for asset, balance in balances.items():\n",
    "    if asset == 'USDT':\n",
    "        estimated_values[asset] = balance\n",
    "    elif f\"{asset}USDT\" in prices:\n",
    "        estimated_values[asset] = balance * prices[f\"{asset}USDT\"]\n",
    "    elif f\"USDT{asset}\" in prices:  # Handle reverse pairs\n",
    "        estimated_values[asset] = balance / prices[f\"USDT{asset}\"]\n",
    "\n",
    "estimated_values"
   ]
  },
  {
   "cell_type": "code",
   "execution_count": null,
   "metadata": {},
   "outputs": [],
   "source": [
    "\n",
    "# Determine the asset with the highest estimated USDT value\n",
    "most_valuable_symbol = max(estimated_values, key=estimated_values.get) if estimated_values else \"No Transaction\"\n",
    "most_valuable_symbol"
   ]
  }
 ],
 "metadata": {
  "kernelspec": {
   "display_name": "crypto-Ag0BD_Y0-py3.12",
   "language": "python",
   "name": "python3"
  },
  "language_info": {
   "codemirror_mode": {
    "name": "ipython",
    "version": 3
   },
   "file_extension": ".py",
   "mimetype": "text/x-python",
   "name": "python",
   "nbconvert_exporter": "python",
   "pygments_lexer": "ipython3",
   "version": "3.12.3"
  }
 },
 "nbformat": 4,
 "nbformat_minor": 2
}
